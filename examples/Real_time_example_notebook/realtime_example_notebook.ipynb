{
 "cells": [
  {
   "cell_type": "markdown",
   "id": "79556fc6",
   "metadata": {},
   "source": [
    "# Real-time example notebook"
   ]
  },
  {
   "cell_type": "code",
   "execution_count": 1,
   "id": "33e7c0be",
   "metadata": {},
   "outputs": [],
   "source": [
    "%load_ext autoreload\n",
    "%autoreload 2\n",
    "%matplotlib notebook\n",
    "from utils import extract_cpu_time_from_file\n",
    "from glob import glob\n",
    "import matplotlib.pyplot as plt\n",
    "import os\n",
    "import numpy as np\n",
    "try:\n",
    "    import pandas as pd\n",
    "except:\n",
    "    raise ValueError(\"You need to install pandas to run this notebook.\")\n"
   ]
  },
  {
   "cell_type": "markdown",
   "id": "d286021d",
   "metadata": {},
   "source": [
    "List files in a directory."
   ]
  },
  {
   "cell_type": "code",
   "execution_count": 2,
   "id": "3e5762c5",
   "metadata": {},
   "outputs": [],
   "source": [
    "profile_stats_file_name_list=sorted(glob(os.path.join(\"tests\",\"*\")))"
   ]
  },
  {
   "cell_type": "markdown",
   "id": "47324cf1",
   "metadata": {},
   "source": [
    "Parsing results to transform them into separate task entries."
   ]
  },
  {
   "cell_type": "code",
   "execution_count": 26,
   "id": "cece95e7",
   "metadata": {},
   "outputs": [],
   "source": [
    "activity_timestep_list=[]\n",
    "time_per_activity_timestep_list=[]\n",
    "for name in profile_stats_file_name_list:   \n",
    "    activity_timestep=float(name.split(\"profiling_activity_timestep_\")[1].split(\"_\")[0])\n",
    "    iteration=str(name.split(\"iteration_\")[1].split(\".\")[0])\n",
    "    activity_iteration_key=str(activity_timestep)+\"_iteration_\"+str(iteration)\n",
    "    time_per_activity_timestep_list.append(extract_cpu_time_from_file(name))\n",
    "    activity_timestep_list.append(activity_iteration_key)\n",
    "        \n",
    "    \n",
    "time_per_activity_timestep_dict=dict(zip(activity_timestep_list, time_per_activity_timestep_list))"
   ]
  },
  {
   "cell_type": "markdown",
   "id": "fc19881a",
   "metadata": {},
   "source": [
    "Create PANDAS dataframe."
   ]
  },
  {
   "cell_type": "code",
   "execution_count": 23,
   "id": "bcf8184d",
   "metadata": {},
   "outputs": [
    {
     "data": {
      "text/html": [
       "<div>\n",
       "<style scoped>\n",
       "    .dataframe tbody tr th:only-of-type {\n",
       "        vertical-align: middle;\n",
       "    }\n",
       "\n",
       "    .dataframe tbody tr th {\n",
       "        vertical-align: top;\n",
       "    }\n",
       "\n",
       "    .dataframe thead th {\n",
       "        text-align: right;\n",
       "    }\n",
       "</style>\n",
       "<table border=\"1\" class=\"dataframe\">\n",
       "  <thead>\n",
       "    <tr style=\"text-align: right;\">\n",
       "      <th></th>\n",
       "      <th>activity</th>\n",
       "      <th>paseos</th>\n",
       "      <th>charge</th>\n",
       "      <th>radiation</th>\n",
       "      <th>thermal</th>\n",
       "      <th>los_check</th>\n",
       "    </tr>\n",
       "  </thead>\n",
       "  <tbody>\n",
       "    <tr>\n",
       "      <th>0.25_iteration_1</th>\n",
       "      <td>28.34244</td>\n",
       "      <td>0.420499</td>\n",
       "      <td>0.113565</td>\n",
       "      <td>0.008564</td>\n",
       "      <td>0.113565</td>\n",
       "      <td>0.285314</td>\n",
       "    </tr>\n",
       "    <tr>\n",
       "      <th>0.25_iteration_2</th>\n",
       "      <td>28.76676</td>\n",
       "      <td>0.429176</td>\n",
       "      <td>0.116199</td>\n",
       "      <td>0.009265</td>\n",
       "      <td>0.116199</td>\n",
       "      <td>0.285627</td>\n",
       "    </tr>\n",
       "    <tr>\n",
       "      <th>0.25_iteration_3</th>\n",
       "      <td>28.87930</td>\n",
       "      <td>0.420072</td>\n",
       "      <td>0.113477</td>\n",
       "      <td>0.008663</td>\n",
       "      <td>0.113477</td>\n",
       "      <td>0.285427</td>\n",
       "    </tr>\n",
       "    <tr>\n",
       "      <th>0.5_iteration_1</th>\n",
       "      <td>28.78551</td>\n",
       "      <td>0.222910</td>\n",
       "      <td>0.060215</td>\n",
       "      <td>0.004718</td>\n",
       "      <td>0.060215</td>\n",
       "      <td>0.141711</td>\n",
       "    </tr>\n",
       "    <tr>\n",
       "      <th>0.5_iteration_2</th>\n",
       "      <td>28.72997</td>\n",
       "      <td>0.219066</td>\n",
       "      <td>0.059768</td>\n",
       "      <td>0.004475</td>\n",
       "      <td>0.059768</td>\n",
       "      <td>0.142248</td>\n",
       "    </tr>\n",
       "    <tr>\n",
       "      <th>0.5_iteration_3</th>\n",
       "      <td>28.98134</td>\n",
       "      <td>0.226263</td>\n",
       "      <td>0.060720</td>\n",
       "      <td>0.004918</td>\n",
       "      <td>0.060720</td>\n",
       "      <td>0.143128</td>\n",
       "    </tr>\n",
       "    <tr>\n",
       "      <th>1.0_iteration_1</th>\n",
       "      <td>28.93054</td>\n",
       "      <td>0.125330</td>\n",
       "      <td>0.034129</td>\n",
       "      <td>0.002555</td>\n",
       "      <td>0.034129</td>\n",
       "      <td>0.071793</td>\n",
       "    </tr>\n",
       "    <tr>\n",
       "      <th>1.0_iteration_2</th>\n",
       "      <td>28.73150</td>\n",
       "      <td>0.131427</td>\n",
       "      <td>0.035888</td>\n",
       "      <td>0.002555</td>\n",
       "      <td>0.035888</td>\n",
       "      <td>0.074036</td>\n",
       "    </tr>\n",
       "    <tr>\n",
       "      <th>1.0_iteration_3</th>\n",
       "      <td>28.73405</td>\n",
       "      <td>0.124569</td>\n",
       "      <td>0.033829</td>\n",
       "      <td>0.002393</td>\n",
       "      <td>0.033829</td>\n",
       "      <td>0.070736</td>\n",
       "    </tr>\n",
       "    <tr>\n",
       "      <th>1.0_iteration_warm_up_1</th>\n",
       "      <td>28.29039</td>\n",
       "      <td>0.124426</td>\n",
       "      <td>0.034058</td>\n",
       "      <td>0.002355</td>\n",
       "      <td>0.034058</td>\n",
       "      <td>0.071642</td>\n",
       "    </tr>\n",
       "    <tr>\n",
       "      <th>1.0_iteration_warm_up_2</th>\n",
       "      <td>28.79610</td>\n",
       "      <td>0.126434</td>\n",
       "      <td>0.034718</td>\n",
       "      <td>0.002444</td>\n",
       "      <td>0.034718</td>\n",
       "      <td>0.073636</td>\n",
       "    </tr>\n",
       "  </tbody>\n",
       "</table>\n",
       "</div>"
      ],
      "text/plain": [
       "                         activity    paseos    charge  radiation   thermal  \\\n",
       "0.25_iteration_1         28.34244  0.420499  0.113565   0.008564  0.113565   \n",
       "0.25_iteration_2         28.76676  0.429176  0.116199   0.009265  0.116199   \n",
       "0.25_iteration_3         28.87930  0.420072  0.113477   0.008663  0.113477   \n",
       "0.5_iteration_1          28.78551  0.222910  0.060215   0.004718  0.060215   \n",
       "0.5_iteration_2          28.72997  0.219066  0.059768   0.004475  0.059768   \n",
       "0.5_iteration_3          28.98134  0.226263  0.060720   0.004918  0.060720   \n",
       "1.0_iteration_1          28.93054  0.125330  0.034129   0.002555  0.034129   \n",
       "1.0_iteration_2          28.73150  0.131427  0.035888   0.002555  0.035888   \n",
       "1.0_iteration_3          28.73405  0.124569  0.033829   0.002393  0.033829   \n",
       "1.0_iteration_warm_up_1  28.29039  0.124426  0.034058   0.002355  0.034058   \n",
       "1.0_iteration_warm_up_2  28.79610  0.126434  0.034718   0.002444  0.034718   \n",
       "\n",
       "                         los_check  \n",
       "0.25_iteration_1          0.285314  \n",
       "0.25_iteration_2          0.285627  \n",
       "0.25_iteration_3          0.285427  \n",
       "0.5_iteration_1           0.141711  \n",
       "0.5_iteration_2           0.142248  \n",
       "0.5_iteration_3           0.143128  \n",
       "1.0_iteration_1           0.071793  \n",
       "1.0_iteration_2           0.074036  \n",
       "1.0_iteration_3           0.070736  \n",
       "1.0_iteration_warm_up_1   0.071642  \n",
       "1.0_iteration_warm_up_2   0.073636  "
      ]
     },
     "execution_count": 23,
     "metadata": {},
     "output_type": "execute_result"
    }
   ],
   "source": [
    "df=pd.DataFrame.from_dict(time_per_activity_timestep_dict, orient=\"index\")\n",
    "pd.DataFrame.from_dict(time_per_activity_timestep_dict, orient=\"index\")"
   ]
  },
  {
   "cell_type": "code",
   "execution_count": 35,
   "id": "3573a9ce",
   "metadata": {},
   "outputs": [],
   "source": [
    "df_025=df.loc[[\"0.25_iteration_1\",\"0.25_iteration_2\",\"0.25_iteration_3\"]].sum()/3\n",
    "df_05=df.loc[[\"0.5_iteration_1\",\"0.5_iteration_2\",\"0.5_iteration_3\"]].sum()/3\n",
    "df_1=df.loc[[\"1.0_iteration_1\",\"1.0_iteration_2\",\"1.0_iteration_3\"]].sum()/3\n",
    "df_avg = pd.DataFrame.from_dict(dict(zip([\"0.25\",\"0.5\",\"1.0\"],[df_025.to_dict(),df_05.to_dict(),df_1.to_dict()])), orient=\"index\")\n",
    "df_avg.to_csv(\"profiling_table.csv\")"
   ]
  },
  {
   "cell_type": "code",
   "execution_count": null,
   "id": "c2f8fc81",
   "metadata": {},
   "outputs": [],
   "source": [
    "pd.DataFrame.from_dict(time_per_activity_timestep_dict, orient=\"index\")"
   ]
  }
 ],
 "metadata": {
  "kernelspec": {
   "display_name": "Python 3 (ipykernel)",
   "language": "python",
   "name": "python3"
  },
  "language_info": {
   "codemirror_mode": {
    "name": "ipython",
    "version": 3
   },
   "file_extension": ".py",
   "mimetype": "text/x-python",
   "name": "python",
   "nbconvert_exporter": "python",
   "pygments_lexer": "ipython3",
   "version": "3.11.0"
  },
  "vscode": {
   "interpreter": {
    "hash": "631ed1c5012f0e533fa579a578e9188c1119a44ea8079f172e9f95a66d1b2a72"
   }
  }
 },
 "nbformat": 4,
 "nbformat_minor": 5
}
