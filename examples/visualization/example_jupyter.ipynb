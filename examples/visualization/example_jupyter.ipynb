{
 "cells": [
  {
   "cell_type": "markdown",
   "metadata": {},
   "source": [
    "# Visualization of PASEOS\n",
    "\n",
    "First load the necessary packages"
   ]
  },
  {
   "cell_type": "code",
   "execution_count": null,
   "metadata": {},
   "outputs": [],
   "source": [
    "%load_ext autoreload\n",
    "%autoreload 2\n",
    "\n",
    "# If you haven't installed PASEOS\n",
    "import sys\n",
    "sys.path.append(\"..\")\n",
    "sys.path.append(\"../..\")\n",
    "\n",
    "import numpy as np\n",
    "\n",
    "# We use pykep for orbit determination\n",
    "import pykep as pk\n",
    "\n",
    "# Code for creating constellations\n",
    "from utils.get_constellation import get_constellation\n",
    "\n",
    "import paseos\n",
    "from paseos.actors.ground_station_actor import GroundstationActor\n",
    "from paseos.actors.spacecraft_actor import SpacecraftActor\n",
    "from paseos.actors.actor_builder import ActorBuilder\n",
    "paseos.set_log_level(\"INFO\")"
   ]
  },
  {
   "cell_type": "markdown",
   "metadata": {},
   "source": [
    "Create a PASEOS object. Add some actors"
   ]
  },
  {
   "cell_type": "code",
   "execution_count": null,
   "metadata": {},
   "outputs": [],
   "source": [
    "# Define a constellation\n",
    "altitude = 786 * 1000  # altitude above the Earth's ground [m]\n",
    "inclination = 98.62  # inclination of the orbit\n",
    "nPlanes = 1 # the number of orbital planes (see linked wiki article)\n",
    "nSats = 2 # the number of satellites per orbital plane\n",
    "t0 = pk.epoch_from_string(\"2022-Dec-17 14:42:42\")  # starting date of our simulation\n",
    "\n",
    "# Compute orbits of LEO satellites\n",
    "planet_list,sats_pos_and_v,_ = get_constellation(altitude,inclination,nSats,nPlanes,t0)\n",
    "\n",
    "paseos_instances = [] # this will store paseos instances\n",
    "earth = pk.planet.jpl_lp(\"earth\") # define our central body\n",
    "\n",
    "for idx,sat_pos_v in enumerate(sats_pos_and_v):\n",
    "    pos,v = sat_pos_v\n",
    "    sat_actor = ActorBuilder.get_actor_scaffold(name=[\"Sentinel_2A\",\"Sentinel_2B\"][idx],\n",
    "                                                actor_type=SpacecraftActor,\n",
    "                                                epoch=t0)\n",
    "    ActorBuilder.set_orbit(actor=sat_actor,position=pos,velocity=v,epoch=t0,central_body=earth)\n",
    "    ActorBuilder.add_comm_device(actor=sat_actor,device_name=\"Link1\",bandwidth_in_kbps=1000)\n",
    "    ActorBuilder.set_power_devices(actor=sat_actor,battery_level_in_Ws=10000+np.random.rand()*90000,\n",
    "                                   max_battery_level_in_Ws=100000,charging_rate_in_W=50)\n",
    "    ActorBuilder.set_thermal_model(\n",
    "        actor=sat_actor,\n",
    "        actor_mass=6.0,\n",
    "        actor_initial_temperature_in_K=283.15,\n",
    "        actor_sun_absorptance=0.9,\n",
    "        actor_infrared_absorptance=0.5,\n",
    "        actor_sun_facing_area=0.012,\n",
    "        actor_central_body_facing_area=0.01,\n",
    "        actor_emissive_area=0.125,\n",
    "        actor_thermal_capacity=6000,\n",
    "    )\n",
    "    \n",
    "    instance = paseos.init_sim(local_actor=sat_actor)\n",
    "    paseos_instances.append(instance)\n",
    "    if idx > 0:\n",
    "        paseos_instance.add_known_actor(sat_actor)\n",
    "    else:\n",
    "        paseos_instance = instance\n",
    "        \n",
    "# Ground stations\n",
    "stations = [\n",
    "    [\"Maspalomas\", 27.7629, -15.6338, 205.1],\n",
    "    [\"Matera\", 40.6486, 16.7046, 536.9],\n",
    "    [\"Svalbard\", 78.9067, 11.8883, 474.0],\n",
    "]\n",
    "groundstation_actors = []\n",
    "for station in stations:\n",
    "    gs_actor = ActorBuilder.get_actor_scaffold(\n",
    "        name=station[0], actor_type=GroundstationActor, epoch=t0\n",
    "    )\n",
    "    ActorBuilder.set_ground_station_location(\n",
    "        gs_actor,\n",
    "        latitude=station[1],\n",
    "        longitude=station[2],\n",
    "        elevation=station[3],\n",
    "        minimum_altitude_angle=5,\n",
    "    )\n",
    "    paseos_instance.add_known_actor(gs_actor)\n",
    "    groundstation_actors.append(gs_actor)"
   ]
  },
  {
   "cell_type": "code",
   "execution_count": null,
   "metadata": {
    "scrolled": false
   },
   "outputs": [],
   "source": [
    "# Plot current status of PASEOS and get a plotter\n",
    "%matplotlib inline\n",
    "plotter = paseos.plot(paseos_instance, paseos.PlotType.SpacePlot)"
   ]
  },
  {
   "cell_type": "code",
   "execution_count": null,
   "metadata": {
    "scrolled": false
   },
   "outputs": [],
   "source": [
    "# Run some operations and inbetween update PASEOS\n",
    "for i in range(100):\n",
    "    for idx,instance in enumerate(paseos_instances):\n",
    "        instance.advance_time(100,np.random.randint(50))\n",
    "        if idx > 0:\n",
    "            paseos_instance.add_known_actor(instance.local_actor)\n",
    "        else:\n",
    "            paseos_instance.empty_known_actors()\n",
    "            for station in groundstation_actors:\n",
    "                paseos_instance.add_known_actor(station)\n",
    "    plotter.update(paseos_instance)"
   ]
  },
  {
   "cell_type": "code",
   "execution_count": null,
   "metadata": {},
   "outputs": [],
   "source": [
    "%%time\n",
    "import matplotlib.animation as animation\n",
    "\n",
    "def anim_func(_,dt,paseos_instances):\n",
    "    # Run some operations and inbetween update PASEOS\n",
    "    for idx,instance in enumerate(paseos_instances):\n",
    "        instance.advance_time(dt,np.random.randint(50))\n",
    "        if idx > 0:\n",
    "            paseos_instance.add_known_actor(instance.local_actor)\n",
    "        else:\n",
    "            paseos_instance.empty_known_actors()\n",
    "            for station in groundstation_actors:\n",
    "                paseos_instance.add_known_actor(station)\n",
    "    plotter.update(paseos_instance, creating_animation=True)\n",
    "    return plotter.ax_3d.get_children() + plotter.ax_los.get_children()\n",
    "\n",
    "anim = animation.FuncAnimation(\n",
    "            plotter.fig,\n",
    "            anim_func,\n",
    "            frames=60,\n",
    "            fargs=(\n",
    "                10,paseos_instances\n",
    "            ),\n",
    "            interval=20,\n",
    "            blit=True,\n",
    "        )  # blit means to only redraw parts that changed\n",
    "anim.save(\"testrun.mp4\", writer=\"ffmpeg\", fps=20)"
   ]
  }
 ],
 "metadata": {
  "kernelspec": {
   "display_name": "Python 3 (ipykernel)",
   "language": "python",
   "name": "python3"
  },
  "language_info": {
   "codemirror_mode": {
    "name": "ipython",
    "version": 3
   },
   "file_extension": ".py",
   "mimetype": "text/x-python",
   "name": "python",
   "nbconvert_exporter": "python",
   "pygments_lexer": "ipython3",
   "version": "3.10.8"
  },
  "vscode": {
   "interpreter": {
    "hash": "cec805858b69cacb2b7ad611a1d16c309b9d5c2fd3283013a8f0cd0423ba3fc5"
   }
  }
 },
 "nbformat": 4,
 "nbformat_minor": 2
}
